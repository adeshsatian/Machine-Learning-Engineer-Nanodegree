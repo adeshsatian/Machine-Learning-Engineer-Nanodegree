{
 "cells": [
  {
   "cell_type": "markdown",
   "metadata": {},
   "source": [
    "# Individual Income Tax Prediction\n",
    "\n",
    "## Overview\n",
    "\n",
    "After the tax reform recently, articles and analysis about tax are everywhere. Working as a tax analyst, I conduct data analysis over financial data every day for tax purposes, but I still find it is a pain to fill out my own individual tax return every year. You might think we can use Turbo tax or other tax preparation software to get them done, but were you ever curious about the amount you paid compared to others. Did you pay more than others or less? How’s the tax payment distribution amount US like? There are also people who have income other than salary need to figure out how much estimated tax they should pay by the end of the year to avoid fines and penalties. \n",
    "\n",
    "US has a very complicated tax system that not everyone has time to fully understand. Errors might happen when people type in or write down the wrong amount, and no one wants to be audited or get penalties from IRS. There is no benchmark for people to estimate their tax, other than their previous year return. What should we do if this is the first year return? What should we do if our income structure changes completely? How to minimize the potential errors? IRS has the database of the tax information in US for the past several years. If we have a model that can predict roughly about how much tax we owe each year, we will be able to understand if we need to pay estimate tax or if there might be some potential errors. \n",
    "\n",
    "## Problem Statement\n",
    "\n",
    "As discussed above, it is hard for each individual to understand how much tax they need to pay each year. People are vulnerable if they do not know if they need to pay an estimate tax or if they have paid the right amount. How to avoid these situations? The potential solution is to build up a model to estimate how much tax they should pay. In this way, there will be a benchmark for people to compare to so that they know if there are abnormal amount caused by errors or other factors.\n",
    "\n",
    "## Metrics\n",
    "\n",
    "There are many simple free models online, such as [smart assets]( https://smartasset.com/taxes/income-taxes), that can be used as a benchmark. However, since similar models only take salary into account, the amount my model calculated could be different from them. We can use the real data from IRS to test the free model online and my model. The less difference between calculated amount and the real amount, the better the model is. This is more a regression model other than a classification model, so the percentage of differences can be a good measure.\n",
    "\n",
    "\n",
    "## Dataset\n",
    "\n",
    "The dataset can be found in [Kaggle](https://www.kaggle.com/irs/individual-income-tax-statistics/data) or [IRS](https://www.irs.gov/statistics/soi-tax-stats-individual-income-tax-statistics-zip-code-data-soi). It is saved separately as csv files for analysis. The detail information about column name and explanation can be found in \"field_definitions.csv\" file. Detail information can also be found in [IRS](https://www.irs.gov/statistics/soi-tax-stats-individual-income-tax-statistics-zip-code-data-soi). The original dataset is not consistent each year, so I will only use the following columns for this analysis. I have manipulate them to make it easiler to understand. The number in the original dataset is the total amount per zipcode.\n",
    "\n",
    "* state - 2 letter state abbreviation\n",
    "* agi_class\n",
    "* num_of_returns - number of returns\n",
    "* num_of_exemptions - number total exemptions\n",
    "* num_of_dependents - number of total dependents\n",
    "* num_of_itemized - total number of returns with itemized deduction\n",
    "* agi - AGI\n",
    "* total_salary - total amount of salaries & wages\n",
    "* taxable_interest - total amount of taxable interest\n",
    "* ordinary_dividend - total amount of ordinary dividend\n",
    "* net_capital_gl - net amount of capital gain/loss\n",
    "* total_tax - Total income tax amount\n",
    "* prep - Number of returns using a Paid Preparer\n",
    "\n",
    "AGI_Stub information shows below:\n",
    "\n",
    "* 1 = \\$1 under \\$25,000 \n",
    "* 2 = \\$25,000 under \\$50,000 \n",
    "* 3 = \\$50,000 under \\$75,000 \n",
    "* 4 = \\$75,000 under \\$100,000 \n",
    "* 5 = \\$100,000 under \\$200,000 \n",
    "* 6 = \\$200,000 or more"
   ]
  },
  {
   "cell_type": "markdown",
   "metadata": {},
   "source": [
    "## Getting Started"
   ]
  },
  {
   "cell_type": "code",
   "execution_count": 45,
   "metadata": {
    "collapsed": true
   },
   "outputs": [],
   "source": [
    "import numpy as np\n",
    "import pandas as pd\n",
    "import matplotlib.pyplot as plt\n",
    "import seaborn as sns\n",
    "\n",
    "%matplotlib inline"
   ]
  },
  {
   "cell_type": "code",
   "execution_count": 46,
   "metadata": {
    "collapsed": true
   },
   "outputs": [],
   "source": [
    "%run read_files.py"
   ]
  },
  {
   "cell_type": "markdown",
   "metadata": {},
   "source": [
    "## Initial Data Exploration"
   ]
  },
  {
   "cell_type": "code",
   "execution_count": 47,
   "metadata": {},
   "outputs": [
    {
     "name": "stdout",
     "output_type": "stream",
     "text": [
      "<class 'pandas.core.frame.DataFrame'>\n",
      "RangeIndex: 1953802 entries, 0 to 1953801\n",
      "Data columns (total 16 columns):\n",
      "year                  int64\n",
      "state                 object\n",
      "agi_class             object\n",
      "num_of_returns        float64\n",
      "num_of_exemptions     float64\n",
      "num_of_dependents     float64\n",
      "num_of_itemized       float64\n",
      "agi                   float64\n",
      "total_salary          float64\n",
      "taxable_interest      float64\n",
      "ordinary_dividend     float64\n",
      "qualified_dividend    float64\n",
      "net_capital_gl        float64\n",
      "real_estate           float64\n",
      "total_tax             float64\n",
      "prep                  float64\n",
      "dtypes: float64(13), int64(1), object(2)\n",
      "memory usage: 238.5+ MB\n"
     ]
    }
   ],
   "source": [
    "raw_data.info()"
   ]
  },
  {
   "cell_type": "code",
   "execution_count": 48,
   "metadata": {},
   "outputs": [
    {
     "data": {
      "text/html": [
       "<div>\n",
       "<style>\n",
       "    .dataframe thead tr:only-child th {\n",
       "        text-align: right;\n",
       "    }\n",
       "\n",
       "    .dataframe thead th {\n",
       "        text-align: left;\n",
       "    }\n",
       "\n",
       "    .dataframe tbody tr th {\n",
       "        vertical-align: top;\n",
       "    }\n",
       "</style>\n",
       "<table border=\"1\" class=\"dataframe\">\n",
       "  <thead>\n",
       "    <tr style=\"text-align: right;\">\n",
       "      <th></th>\n",
       "      <th>year</th>\n",
       "      <th>num_of_returns</th>\n",
       "      <th>num_of_exemptions</th>\n",
       "      <th>num_of_dependents</th>\n",
       "      <th>num_of_itemized</th>\n",
       "      <th>agi</th>\n",
       "      <th>total_salary</th>\n",
       "      <th>taxable_interest</th>\n",
       "      <th>ordinary_dividend</th>\n",
       "      <th>qualified_dividend</th>\n",
       "      <th>net_capital_gl</th>\n",
       "      <th>real_estate</th>\n",
       "      <th>total_tax</th>\n",
       "      <th>prep</th>\n",
       "    </tr>\n",
       "  </thead>\n",
       "  <tbody>\n",
       "    <tr>\n",
       "      <th>count</th>\n",
       "      <td>1.953802e+06</td>\n",
       "      <td>1.931287e+06</td>\n",
       "      <td>1.922207e+06</td>\n",
       "      <td>1.931287e+06</td>\n",
       "      <td>1.705670e+06</td>\n",
       "      <td>1.928778e+06</td>\n",
       "      <td>1.910446e+06</td>\n",
       "      <td>1.883210e+06</td>\n",
       "      <td>1.850138e+06</td>\n",
       "      <td>1.029229e+06</td>\n",
       "      <td>1.855006e+06</td>\n",
       "      <td>1.215061e+06</td>\n",
       "      <td>1.868060e+06</td>\n",
       "      <td>1.910656e+06</td>\n",
       "    </tr>\n",
       "    <tr>\n",
       "      <th>mean</th>\n",
       "      <td>2.009570e+03</td>\n",
       "      <td>1.313526e+03</td>\n",
       "      <td>9.364372e+02</td>\n",
       "      <td>2.427323e+03</td>\n",
       "      <td>9.567687e+03</td>\n",
       "      <td>4.414340e+06</td>\n",
       "      <td>7.192329e+06</td>\n",
       "      <td>3.179260e+06</td>\n",
       "      <td>2.210501e+05</td>\n",
       "      <td>1.918794e+03</td>\n",
       "      <td>5.092822e+05</td>\n",
       "      <td>5.617182e+02</td>\n",
       "      <td>2.601555e+05</td>\n",
       "      <td>1.085569e+06</td>\n",
       "    </tr>\n",
       "    <tr>\n",
       "      <th>std</th>\n",
       "      <td>3.339095e+00</td>\n",
       "      <td>3.329159e+04</td>\n",
       "      <td>1.914911e+04</td>\n",
       "      <td>6.409265e+04</td>\n",
       "      <td>6.802836e+04</td>\n",
       "      <td>4.605642e+07</td>\n",
       "      <td>4.617545e+07</td>\n",
       "      <td>2.474668e+07</td>\n",
       "      <td>3.165278e+06</td>\n",
       "      <td>6.300148e+04</td>\n",
       "      <td>1.540186e+07</td>\n",
       "      <td>1.282776e+04</td>\n",
       "      <td>6.510224e+06</td>\n",
       "      <td>1.294756e+07</td>\n",
       "    </tr>\n",
       "    <tr>\n",
       "      <th>min</th>\n",
       "      <td>2.005000e+03</td>\n",
       "      <td>0.000000e+00</td>\n",
       "      <td>0.000000e+00</td>\n",
       "      <td>0.000000e+00</td>\n",
       "      <td>-4.407640e+05</td>\n",
       "      <td>-5.442273e+06</td>\n",
       "      <td>-8.545497e+06</td>\n",
       "      <td>-1.780000e+02</td>\n",
       "      <td>-1.298000e+03</td>\n",
       "      <td>0.000000e+00</td>\n",
       "      <td>-6.619550e+05</td>\n",
       "      <td>0.000000e+00</td>\n",
       "      <td>-2.309389e+06</td>\n",
       "      <td>0.000000e+00</td>\n",
       "    </tr>\n",
       "    <tr>\n",
       "      <th>25%</th>\n",
       "      <td>2.006000e+03</td>\n",
       "      <td>5.000000e+01</td>\n",
       "      <td>4.800000e+01</td>\n",
       "      <td>8.000000e+01</td>\n",
       "      <td>5.000000e+01</td>\n",
       "      <td>1.444000e+03</td>\n",
       "      <td>4.790000e+02</td>\n",
       "      <td>2.200000e+01</td>\n",
       "      <td>1.300000e+01</td>\n",
       "      <td>1.000000e-04</td>\n",
       "      <td>1.000000e-04</td>\n",
       "      <td>2.000000e+01</td>\n",
       "      <td>3.000000e+01</td>\n",
       "      <td>1.200000e+02</td>\n",
       "    </tr>\n",
       "    <tr>\n",
       "      <th>50%</th>\n",
       "      <td>2.010000e+03</td>\n",
       "      <td>1.900000e+02</td>\n",
       "      <td>1.600000e+02</td>\n",
       "      <td>3.170000e+02</td>\n",
       "      <td>2.790000e+02</td>\n",
       "      <td>1.047600e+04</td>\n",
       "      <td>9.094500e+03</td>\n",
       "      <td>2.000000e+02</td>\n",
       "      <td>2.530000e+02</td>\n",
       "      <td>7.800000e+01</td>\n",
       "      <td>1.240000e+02</td>\n",
       "      <td>7.000000e+01</td>\n",
       "      <td>3.270000e+02</td>\n",
       "      <td>1.100000e+03</td>\n",
       "    </tr>\n",
       "    <tr>\n",
       "      <th>75%</th>\n",
       "      <td>2.013000e+03</td>\n",
       "      <td>8.200000e+02</td>\n",
       "      <td>6.220000e+02</td>\n",
       "      <td>1.347000e+03</td>\n",
       "      <td>1.737000e+03</td>\n",
       "      <td>7.353475e+04</td>\n",
       "      <td>1.436490e+05</td>\n",
       "      <td>2.285000e+03</td>\n",
       "      <td>3.119000e+03</td>\n",
       "      <td>4.400000e+02</td>\n",
       "      <td>1.759000e+03</td>\n",
       "      <td>3.100000e+02</td>\n",
       "      <td>3.312250e+03</td>\n",
       "      <td>1.415100e+04</td>\n",
       "    </tr>\n",
       "    <tr>\n",
       "      <th>max</th>\n",
       "      <td>2.015000e+03</td>\n",
       "      <td>1.557362e+07</td>\n",
       "      <td>1.009918e+07</td>\n",
       "      <td>3.376639e+07</td>\n",
       "      <td>1.791496e+07</td>\n",
       "      <td>1.516317e+10</td>\n",
       "      <td>1.067744e+10</td>\n",
       "      <td>4.529753e+09</td>\n",
       "      <td>9.706594e+08</td>\n",
       "      <td>1.627667e+07</td>\n",
       "      <td>7.993815e+09</td>\n",
       "      <td>5.750461e+06</td>\n",
       "      <td>3.138205e+09</td>\n",
       "      <td>3.872201e+09</td>\n",
       "    </tr>\n",
       "  </tbody>\n",
       "</table>\n",
       "</div>"
      ],
      "text/plain": [
       "               year  num_of_returns  num_of_exemptions  num_of_dependents  \\\n",
       "count  1.953802e+06    1.931287e+06       1.922207e+06       1.931287e+06   \n",
       "mean   2.009570e+03    1.313526e+03       9.364372e+02       2.427323e+03   \n",
       "std    3.339095e+00    3.329159e+04       1.914911e+04       6.409265e+04   \n",
       "min    2.005000e+03    0.000000e+00       0.000000e+00       0.000000e+00   \n",
       "25%    2.006000e+03    5.000000e+01       4.800000e+01       8.000000e+01   \n",
       "50%    2.010000e+03    1.900000e+02       1.600000e+02       3.170000e+02   \n",
       "75%    2.013000e+03    8.200000e+02       6.220000e+02       1.347000e+03   \n",
       "max    2.015000e+03    1.557362e+07       1.009918e+07       3.376639e+07   \n",
       "\n",
       "       num_of_itemized           agi  total_salary  taxable_interest  \\\n",
       "count     1.705670e+06  1.928778e+06  1.910446e+06      1.883210e+06   \n",
       "mean      9.567687e+03  4.414340e+06  7.192329e+06      3.179260e+06   \n",
       "std       6.802836e+04  4.605642e+07  4.617545e+07      2.474668e+07   \n",
       "min      -4.407640e+05 -5.442273e+06 -8.545497e+06     -1.780000e+02   \n",
       "25%       5.000000e+01  1.444000e+03  4.790000e+02      2.200000e+01   \n",
       "50%       2.790000e+02  1.047600e+04  9.094500e+03      2.000000e+02   \n",
       "75%       1.737000e+03  7.353475e+04  1.436490e+05      2.285000e+03   \n",
       "max       1.791496e+07  1.516317e+10  1.067744e+10      4.529753e+09   \n",
       "\n",
       "       ordinary_dividend  qualified_dividend  net_capital_gl   real_estate  \\\n",
       "count       1.850138e+06        1.029229e+06    1.855006e+06  1.215061e+06   \n",
       "mean        2.210501e+05        1.918794e+03    5.092822e+05  5.617182e+02   \n",
       "std         3.165278e+06        6.300148e+04    1.540186e+07  1.282776e+04   \n",
       "min        -1.298000e+03        0.000000e+00   -6.619550e+05  0.000000e+00   \n",
       "25%         1.300000e+01        1.000000e-04    1.000000e-04  2.000000e+01   \n",
       "50%         2.530000e+02        7.800000e+01    1.240000e+02  7.000000e+01   \n",
       "75%         3.119000e+03        4.400000e+02    1.759000e+03  3.100000e+02   \n",
       "max         9.706594e+08        1.627667e+07    7.993815e+09  5.750461e+06   \n",
       "\n",
       "          total_tax          prep  \n",
       "count  1.868060e+06  1.910656e+06  \n",
       "mean   2.601555e+05  1.085569e+06  \n",
       "std    6.510224e+06  1.294756e+07  \n",
       "min   -2.309389e+06  0.000000e+00  \n",
       "25%    3.000000e+01  1.200000e+02  \n",
       "50%    3.270000e+02  1.100000e+03  \n",
       "75%    3.312250e+03  1.415100e+04  \n",
       "max    3.138205e+09  3.872201e+09  "
      ]
     },
     "execution_count": 48,
     "metadata": {},
     "output_type": "execute_result"
    }
   ],
   "source": [
    "raw_data.describe()"
   ]
  },
  {
   "cell_type": "code",
   "execution_count": 6,
   "metadata": {},
   "outputs": [
    {
     "data": {
      "text/html": [
       "<div>\n",
       "<style>\n",
       "    .dataframe thead tr:only-child th {\n",
       "        text-align: right;\n",
       "    }\n",
       "\n",
       "    .dataframe thead th {\n",
       "        text-align: left;\n",
       "    }\n",
       "\n",
       "    .dataframe tbody tr th {\n",
       "        vertical-align: top;\n",
       "    }\n",
       "</style>\n",
       "<table border=\"1\" class=\"dataframe\">\n",
       "  <thead>\n",
       "    <tr style=\"text-align: right;\">\n",
       "      <th></th>\n",
       "      <th>year</th>\n",
       "      <th>state</th>\n",
       "      <th>agi_class</th>\n",
       "      <th>num_of_returns</th>\n",
       "      <th>num_of_exemptions</th>\n",
       "      <th>num_of_dependents</th>\n",
       "      <th>num_of_itemized</th>\n",
       "      <th>agi</th>\n",
       "      <th>total_salary</th>\n",
       "      <th>taxable_interest</th>\n",
       "      <th>ordinary_dividend</th>\n",
       "      <th>qualified_dividend</th>\n",
       "      <th>net_capital_gl</th>\n",
       "      <th>real_estate</th>\n",
       "      <th>total_tax</th>\n",
       "      <th>prep</th>\n",
       "    </tr>\n",
       "  </thead>\n",
       "  <tbody>\n",
       "    <tr>\n",
       "      <th>0</th>\n",
       "      <td>2005</td>\n",
       "      <td>AK</td>\n",
       "      <td>1</td>\n",
       "      <td>1459.0</td>\n",
       "      <td>1865.0</td>\n",
       "      <td>342.0</td>\n",
       "      <td>1709.0</td>\n",
       "      <td>5588.0</td>\n",
       "      <td>235.0</td>\n",
       "      <td>231.0</td>\n",
       "      <td>209.0</td>\n",
       "      <td>NaN</td>\n",
       "      <td>36.0</td>\n",
       "      <td>NaN</td>\n",
       "      <td>116.0</td>\n",
       "      <td>730.0</td>\n",
       "    </tr>\n",
       "    <tr>\n",
       "      <th>1</th>\n",
       "      <td>2005</td>\n",
       "      <td>AK</td>\n",
       "      <td>2</td>\n",
       "      <td>1713.0</td>\n",
       "      <td>2555.0</td>\n",
       "      <td>683.0</td>\n",
       "      <td>29943.0</td>\n",
       "      <td>24052.0</td>\n",
       "      <td>750.0</td>\n",
       "      <td>538.0</td>\n",
       "      <td>180.0</td>\n",
       "      <td>NaN</td>\n",
       "      <td>133.0</td>\n",
       "      <td>NaN</td>\n",
       "      <td>1436.0</td>\n",
       "      <td>927.0</td>\n",
       "    </tr>\n",
       "    <tr>\n",
       "      <th>2</th>\n",
       "      <td>2005</td>\n",
       "      <td>AK</td>\n",
       "      <td>3</td>\n",
       "      <td>1896.0</td>\n",
       "      <td>2944.0</td>\n",
       "      <td>736.0</td>\n",
       "      <td>67861.0</td>\n",
       "      <td>57409.0</td>\n",
       "      <td>860.0</td>\n",
       "      <td>832.0</td>\n",
       "      <td>586.0</td>\n",
       "      <td>NaN</td>\n",
       "      <td>311.0</td>\n",
       "      <td>NaN</td>\n",
       "      <td>5896.0</td>\n",
       "      <td>905.0</td>\n",
       "    </tr>\n",
       "    <tr>\n",
       "      <th>3</th>\n",
       "      <td>2005</td>\n",
       "      <td>AK</td>\n",
       "      <td>4</td>\n",
       "      <td>839.0</td>\n",
       "      <td>1421.0</td>\n",
       "      <td>303.0</td>\n",
       "      <td>51347.0</td>\n",
       "      <td>36871.0</td>\n",
       "      <td>1104.0</td>\n",
       "      <td>1029.0</td>\n",
       "      <td>1687.0</td>\n",
       "      <td>NaN</td>\n",
       "      <td>331.0</td>\n",
       "      <td>NaN</td>\n",
       "      <td>6245.0</td>\n",
       "      <td>467.0</td>\n",
       "    </tr>\n",
       "    <tr>\n",
       "      <th>4</th>\n",
       "      <td>2005</td>\n",
       "      <td>AK</td>\n",
       "      <td>5</td>\n",
       "      <td>417.0</td>\n",
       "      <td>794.0</td>\n",
       "      <td>153.0</td>\n",
       "      <td>35984.0</td>\n",
       "      <td>24282.0</td>\n",
       "      <td>683.0</td>\n",
       "      <td>607.0</td>\n",
       "      <td>981.0</td>\n",
       "      <td>NaN</td>\n",
       "      <td>239.0</td>\n",
       "      <td>NaN</td>\n",
       "      <td>5134.0</td>\n",
       "      <td>227.0</td>\n",
       "    </tr>\n",
       "  </tbody>\n",
       "</table>\n",
       "</div>"
      ],
      "text/plain": [
       "   year state agi_class  num_of_returns  num_of_exemptions  num_of_dependents  \\\n",
       "0  2005    AK         1          1459.0             1865.0              342.0   \n",
       "1  2005    AK         2          1713.0             2555.0              683.0   \n",
       "2  2005    AK         3          1896.0             2944.0              736.0   \n",
       "3  2005    AK         4           839.0             1421.0              303.0   \n",
       "4  2005    AK         5           417.0              794.0              153.0   \n",
       "\n",
       "   num_of_itemized      agi  total_salary  taxable_interest  \\\n",
       "0           1709.0   5588.0         235.0             231.0   \n",
       "1          29943.0  24052.0         750.0             538.0   \n",
       "2          67861.0  57409.0         860.0             832.0   \n",
       "3          51347.0  36871.0        1104.0            1029.0   \n",
       "4          35984.0  24282.0         683.0             607.0   \n",
       "\n",
       "   ordinary_dividend  qualified_dividend  net_capital_gl  real_estate  \\\n",
       "0              209.0                 NaN            36.0          NaN   \n",
       "1              180.0                 NaN           133.0          NaN   \n",
       "2              586.0                 NaN           311.0          NaN   \n",
       "3             1687.0                 NaN           331.0          NaN   \n",
       "4              981.0                 NaN           239.0          NaN   \n",
       "\n",
       "   total_tax   prep  \n",
       "0      116.0  730.0  \n",
       "1     1436.0  927.0  \n",
       "2     5896.0  905.0  \n",
       "3     6245.0  467.0  \n",
       "4     5134.0  227.0  "
      ]
     },
     "execution_count": 6,
     "metadata": {},
     "output_type": "execute_result"
    }
   ],
   "source": [
    "raw_data.head()"
   ]
  },
  {
   "cell_type": "code",
   "execution_count": 7,
   "metadata": {},
   "outputs": [
    {
     "data": {
      "text/html": [
       "<div>\n",
       "<style>\n",
       "    .dataframe thead tr:only-child th {\n",
       "        text-align: right;\n",
       "    }\n",
       "\n",
       "    .dataframe thead th {\n",
       "        text-align: left;\n",
       "    }\n",
       "\n",
       "    .dataframe tbody tr th {\n",
       "        vertical-align: top;\n",
       "    }\n",
       "</style>\n",
       "<table border=\"1\" class=\"dataframe\">\n",
       "  <thead>\n",
       "    <tr style=\"text-align: right;\">\n",
       "      <th></th>\n",
       "      <th>year</th>\n",
       "      <th>state</th>\n",
       "      <th>agi_class</th>\n",
       "      <th>num_of_returns</th>\n",
       "      <th>num_of_exemptions</th>\n",
       "      <th>num_of_dependents</th>\n",
       "      <th>num_of_itemized</th>\n",
       "      <th>agi</th>\n",
       "      <th>total_salary</th>\n",
       "      <th>taxable_interest</th>\n",
       "      <th>ordinary_dividend</th>\n",
       "      <th>qualified_dividend</th>\n",
       "      <th>net_capital_gl</th>\n",
       "      <th>real_estate</th>\n",
       "      <th>total_tax</th>\n",
       "      <th>prep</th>\n",
       "    </tr>\n",
       "  </thead>\n",
       "  <tbody>\n",
       "    <tr>\n",
       "      <th>1245442</th>\n",
       "      <td>2011</td>\n",
       "      <td>PA</td>\n",
       "      <td>3</td>\n",
       "      <td>1716.0</td>\n",
       "      <td>976.0</td>\n",
       "      <td>3946.0</td>\n",
       "      <td>1125.0</td>\n",
       "      <td>106409.0</td>\n",
       "      <td>78414.0</td>\n",
       "      <td>664.0</td>\n",
       "      <td>1038.0</td>\n",
       "      <td>701.0</td>\n",
       "      <td>271.0</td>\n",
       "      <td>541.0</td>\n",
       "      <td>1409.0</td>\n",
       "      <td>9078.0</td>\n",
       "    </tr>\n",
       "    <tr>\n",
       "      <th>495495</th>\n",
       "      <td>2006</td>\n",
       "      <td>WV</td>\n",
       "      <td>5</td>\n",
       "      <td>28.0</td>\n",
       "      <td>65.0</td>\n",
       "      <td>12.0</td>\n",
       "      <td>2412.0</td>\n",
       "      <td>1580.0</td>\n",
       "      <td>27.0</td>\n",
       "      <td>NaN</td>\n",
       "      <td>85.0</td>\n",
       "      <td>NaN</td>\n",
       "      <td>17.0</td>\n",
       "      <td>NaN</td>\n",
       "      <td>235.0</td>\n",
       "      <td>18.0</td>\n",
       "    </tr>\n",
       "    <tr>\n",
       "      <th>1589723</th>\n",
       "      <td>2013</td>\n",
       "      <td>TN</td>\n",
       "      <td>2</td>\n",
       "      <td>150.0</td>\n",
       "      <td>100.0</td>\n",
       "      <td>350.0</td>\n",
       "      <td>120.0</td>\n",
       "      <td>5350.0</td>\n",
       "      <td>4282.0</td>\n",
       "      <td>3.0</td>\n",
       "      <td>0.0</td>\n",
       "      <td>0.0</td>\n",
       "      <td>0.0</td>\n",
       "      <td>30.0</td>\n",
       "      <td>32.0</td>\n",
       "      <td>255.0</td>\n",
       "    </tr>\n",
       "    <tr>\n",
       "      <th>555225</th>\n",
       "      <td>2007</td>\n",
       "      <td>IL</td>\n",
       "      <td>7</td>\n",
       "      <td>16.0</td>\n",
       "      <td>13.0</td>\n",
       "      <td>45.0</td>\n",
       "      <td>NaN</td>\n",
       "      <td>6050557.0</td>\n",
       "      <td>2566712.0</td>\n",
       "      <td>141812.0</td>\n",
       "      <td>50714.0</td>\n",
       "      <td>NaN</td>\n",
       "      <td>466053.0</td>\n",
       "      <td>10.0</td>\n",
       "      <td>86070.0</td>\n",
       "      <td>1049505.0</td>\n",
       "    </tr>\n",
       "    <tr>\n",
       "      <th>1462795</th>\n",
       "      <td>2013</td>\n",
       "      <td>CA</td>\n",
       "      <td>4</td>\n",
       "      <td>1640.0</td>\n",
       "      <td>1140.0</td>\n",
       "      <td>3830.0</td>\n",
       "      <td>1280.0</td>\n",
       "      <td>142074.0</td>\n",
       "      <td>111810.0</td>\n",
       "      <td>729.0</td>\n",
       "      <td>1119.0</td>\n",
       "      <td>783.0</td>\n",
       "      <td>1029.0</td>\n",
       "      <td>1080.0</td>\n",
       "      <td>3374.0</td>\n",
       "      <td>13916.0</td>\n",
       "    </tr>\n",
       "  </tbody>\n",
       "</table>\n",
       "</div>"
      ],
      "text/plain": [
       "         year state agi_class  num_of_returns  num_of_exemptions  \\\n",
       "1245442  2011    PA         3          1716.0              976.0   \n",
       "495495   2006    WV         5            28.0               65.0   \n",
       "1589723  2013    TN         2           150.0              100.0   \n",
       "555225   2007    IL         7            16.0               13.0   \n",
       "1462795  2013    CA         4          1640.0             1140.0   \n",
       "\n",
       "         num_of_dependents  num_of_itemized        agi  total_salary  \\\n",
       "1245442             3946.0           1125.0   106409.0       78414.0   \n",
       "495495                12.0           2412.0     1580.0          27.0   \n",
       "1589723              350.0            120.0     5350.0        4282.0   \n",
       "555225                45.0              NaN  6050557.0     2566712.0   \n",
       "1462795             3830.0           1280.0   142074.0      111810.0   \n",
       "\n",
       "         taxable_interest  ordinary_dividend  qualified_dividend  \\\n",
       "1245442             664.0             1038.0               701.0   \n",
       "495495                NaN               85.0                 NaN   \n",
       "1589723               3.0                0.0                 0.0   \n",
       "555225           141812.0            50714.0                 NaN   \n",
       "1462795             729.0             1119.0               783.0   \n",
       "\n",
       "         net_capital_gl  real_estate  total_tax       prep  \n",
       "1245442           271.0        541.0     1409.0     9078.0  \n",
       "495495             17.0          NaN      235.0       18.0  \n",
       "1589723             0.0         30.0       32.0      255.0  \n",
       "555225         466053.0         10.0    86070.0  1049505.0  \n",
       "1462795          1029.0       1080.0     3374.0    13916.0  "
      ]
     },
     "execution_count": 7,
     "metadata": {},
     "output_type": "execute_result"
    }
   ],
   "source": [
    "raw_data.sample(5)"
   ]
  },
  {
   "cell_type": "markdown",
   "metadata": {},
   "source": [
    "The dataset is currently aggregated by zipcode, which has too many details. State has more impact on the final tax amount than zipcode. The amount in raw_data is grouped by zipcode, and the agg_state will be grouped by year and state."
   ]
  },
  {
   "cell_type": "code",
   "execution_count": 8,
   "metadata": {},
   "outputs": [
    {
     "data": {
      "text/plain": [
       "(1953802, 16)"
      ]
     },
     "execution_count": 8,
     "metadata": {},
     "output_type": "execute_result"
    }
   ],
   "source": [
    "raw_data.shape"
   ]
  },
  {
   "cell_type": "code",
   "execution_count": 9,
   "metadata": {
    "collapsed": true
   },
   "outputs": [],
   "source": [
    "agg_state = raw_data.groupby(['year', 'state']).sum()"
   ]
  },
  {
   "cell_type": "code",
   "execution_count": 10,
   "metadata": {},
   "outputs": [
    {
     "data": {
      "text/html": [
       "<div>\n",
       "<style>\n",
       "    .dataframe thead tr:only-child th {\n",
       "        text-align: right;\n",
       "    }\n",
       "\n",
       "    .dataframe thead th {\n",
       "        text-align: left;\n",
       "    }\n",
       "\n",
       "    .dataframe tbody tr th {\n",
       "        vertical-align: top;\n",
       "    }\n",
       "</style>\n",
       "<table border=\"1\" class=\"dataframe\">\n",
       "  <thead>\n",
       "    <tr style=\"text-align: right;\">\n",
       "      <th></th>\n",
       "      <th></th>\n",
       "      <th>num_of_returns</th>\n",
       "      <th>num_of_exemptions</th>\n",
       "      <th>num_of_dependents</th>\n",
       "      <th>num_of_itemized</th>\n",
       "      <th>agi</th>\n",
       "      <th>total_salary</th>\n",
       "      <th>taxable_interest</th>\n",
       "      <th>ordinary_dividend</th>\n",
       "      <th>qualified_dividend</th>\n",
       "      <th>net_capital_gl</th>\n",
       "      <th>real_estate</th>\n",
       "      <th>total_tax</th>\n",
       "      <th>prep</th>\n",
       "    </tr>\n",
       "    <tr>\n",
       "      <th>year</th>\n",
       "      <th>state</th>\n",
       "      <th></th>\n",
       "      <th></th>\n",
       "      <th></th>\n",
       "      <th></th>\n",
       "      <th></th>\n",
       "      <th></th>\n",
       "      <th></th>\n",
       "      <th></th>\n",
       "      <th></th>\n",
       "      <th></th>\n",
       "      <th></th>\n",
       "      <th></th>\n",
       "      <th></th>\n",
       "    </tr>\n",
       "  </thead>\n",
       "  <tbody>\n",
       "    <tr>\n",
       "      <th rowspan=\"5\" valign=\"top\">2005</th>\n",
       "      <th>AK</th>\n",
       "      <td>332862.0</td>\n",
       "      <td>649580.0</td>\n",
       "      <td>198114.0</td>\n",
       "      <td>16173822.0</td>\n",
       "      <td>11640553.0</td>\n",
       "      <td>225753.0</td>\n",
       "      <td>221140.0</td>\n",
       "      <td>720983.0</td>\n",
       "      <td>NaN</td>\n",
       "      <td>84813.0</td>\n",
       "      <td>NaN</td>\n",
       "      <td>2130245.0</td>\n",
       "      <td>165485.0</td>\n",
       "    </tr>\n",
       "    <tr>\n",
       "      <th>AL</th>\n",
       "      <td>1914927.0</td>\n",
       "      <td>4104778.0</td>\n",
       "      <td>1426129.0</td>\n",
       "      <td>86911690.0</td>\n",
       "      <td>62579209.0</td>\n",
       "      <td>1492232.0</td>\n",
       "      <td>1420374.0</td>\n",
       "      <td>4681453.0</td>\n",
       "      <td>NaN</td>\n",
       "      <td>593038.0</td>\n",
       "      <td>NaN</td>\n",
       "      <td>10071868.0</td>\n",
       "      <td>1267540.0</td>\n",
       "    </tr>\n",
       "    <tr>\n",
       "      <th>AR</th>\n",
       "      <td>1132465.0</td>\n",
       "      <td>2432285.0</td>\n",
       "      <td>807863.0</td>\n",
       "      <td>47221416.0</td>\n",
       "      <td>34034043.0</td>\n",
       "      <td>903253.0</td>\n",
       "      <td>1339672.0</td>\n",
       "      <td>2161224.0</td>\n",
       "      <td>NaN</td>\n",
       "      <td>282414.0</td>\n",
       "      <td>NaN</td>\n",
       "      <td>5202882.0</td>\n",
       "      <td>766230.0</td>\n",
       "    </tr>\n",
       "    <tr>\n",
       "      <th>AZ</th>\n",
       "      <td>2406031.0</td>\n",
       "      <td>5205602.0</td>\n",
       "      <td>1812360.0</td>\n",
       "      <td>134147965.0</td>\n",
       "      <td>88893193.0</td>\n",
       "      <td>2889780.0</td>\n",
       "      <td>2435586.0</td>\n",
       "      <td>14009832.0</td>\n",
       "      <td>NaN</td>\n",
       "      <td>939807.0</td>\n",
       "      <td>NaN</td>\n",
       "      <td>17090400.0</td>\n",
       "      <td>1465745.0</td>\n",
       "    </tr>\n",
       "    <tr>\n",
       "      <th>CA</th>\n",
       "      <td>14991003.0</td>\n",
       "      <td>32247039.0</td>\n",
       "      <td>11493122.0</td>\n",
       "      <td>950689031.0</td>\n",
       "      <td>643027163.0</td>\n",
       "      <td>21217889.0</td>\n",
       "      <td>18978247.0</td>\n",
       "      <td>96329745.0</td>\n",
       "      <td>NaN</td>\n",
       "      <td>6033282.0</td>\n",
       "      <td>NaN</td>\n",
       "      <td>133624632.0</td>\n",
       "      <td>10086195.0</td>\n",
       "    </tr>\n",
       "  </tbody>\n",
       "</table>\n",
       "</div>"
      ],
      "text/plain": [
       "            num_of_returns  num_of_exemptions  num_of_dependents  \\\n",
       "year state                                                         \n",
       "2005 AK           332862.0           649580.0           198114.0   \n",
       "     AL          1914927.0          4104778.0          1426129.0   \n",
       "     AR          1132465.0          2432285.0           807863.0   \n",
       "     AZ          2406031.0          5205602.0          1812360.0   \n",
       "     CA         14991003.0         32247039.0         11493122.0   \n",
       "\n",
       "            num_of_itemized          agi  total_salary  taxable_interest  \\\n",
       "year state                                                                 \n",
       "2005 AK          16173822.0   11640553.0      225753.0          221140.0   \n",
       "     AL          86911690.0   62579209.0     1492232.0         1420374.0   \n",
       "     AR          47221416.0   34034043.0      903253.0         1339672.0   \n",
       "     AZ         134147965.0   88893193.0     2889780.0         2435586.0   \n",
       "     CA         950689031.0  643027163.0    21217889.0        18978247.0   \n",
       "\n",
       "            ordinary_dividend  qualified_dividend  net_capital_gl  \\\n",
       "year state                                                          \n",
       "2005 AK              720983.0                 NaN         84813.0   \n",
       "     AL             4681453.0                 NaN        593038.0   \n",
       "     AR             2161224.0                 NaN        282414.0   \n",
       "     AZ            14009832.0                 NaN        939807.0   \n",
       "     CA            96329745.0                 NaN       6033282.0   \n",
       "\n",
       "            real_estate    total_tax        prep  \n",
       "year state                                        \n",
       "2005 AK             NaN    2130245.0    165485.0  \n",
       "     AL             NaN   10071868.0   1267540.0  \n",
       "     AR             NaN    5202882.0    766230.0  \n",
       "     AZ             NaN   17090400.0   1465745.0  \n",
       "     CA             NaN  133624632.0  10086195.0  "
      ]
     },
     "execution_count": 10,
     "metadata": {},
     "output_type": "execute_result"
    }
   ],
   "source": [
    "agg_state.head()"
   ]
  },
  {
   "cell_type": "markdown",
   "metadata": {
    "collapsed": true
   },
   "source": [
    "## Univariate Data Exploration"
   ]
  },
  {
   "cell_type": "markdown",
   "metadata": {},
   "source": [
    "### Number of Returns per year"
   ]
  },
  {
   "cell_type": "code",
   "execution_count": 17,
   "metadata": {
    "scrolled": true
   },
   "outputs": [
    {
     "data": {
      "text/plain": [
       "<matplotlib.axes._subplots.AxesSubplot at 0x1a2e012a20>"
      ]
     },
     "execution_count": 17,
     "metadata": {},
     "output_type": "execute_result"
    },
    {
     "data": {
      "image/png": "[encoded data removed]",
      "text/plain": [
       "<matplotlib.figure.Figure at 0x1a14461128>"
      ]
     },
     "metadata": {},
     "output_type": "display_data"
    }
   ],
   "source": [
    "sns.barplot(data=raw_data, x='year', y='num_of_returns')"
   ]
  },
  {
   "cell_type": "code",
   "execution_count": 18,
   "metadata": {},
   "outputs": [
    {
     "data": {
      "text/plain": [
       "<matplotlib.axes._subplots.AxesSubplot at 0x1a4ffea7f0>"
      ]
     },
     "execution_count": 18,
     "metadata": {},
     "output_type": "execute_result"
    },
    {
     "data": {
      "image/png": "[encoded data removed]",
      "text/plain": [
       "<matplotlib.figure.Figure at 0x1a536840b8>"
      ]
     },
     "metadata": {},
     "output_type": "display_data"
    }
   ],
   "source": [
    "sns.barplot(data=raw_data, x='year', y='num_of_returns', estimator=np.sum)"
   ]
  },
  {
   "cell_type": "markdown",
   "metadata": {},
   "source": [
    "This is very interesting since the number of returns should not change so dramatically. It might be something hidden in the data. "
   ]
  },
  {
   "cell_type": "code",
   "execution_count": 19,
   "metadata": {},
   "outputs": [
    {
     "data": {
      "text/plain": [
       "<matplotlib.axes._subplots.AxesSubplot at 0x1114a5780>"
      ]
     },
     "execution_count": 19,
     "metadata": {},
     "output_type": "execute_result"
    },
    {
     "data": {
      "image/png": "[encoded data removed]",
      "text/plain": [
       "<matplotlib.figure.Figure at 0x1a1a764978>"
      ]
     },
     "metadata": {},
     "output_type": "display_data"
    }
   ],
   "source": [
    "sns.countplot(data=raw_data, x='year')"
   ]
  },
  {
   "cell_type": "markdown",
   "metadata": {},
   "source": [
    "This explans the sky-high average number of return in 2009. Although the total amount of returns seems right, the data point is much less than the other years. After reading through the documents, I did not find any reasons why it is significantly less than the other years. I assume that many zipcodes were grouped together in 2009. \n",
    "\n",
    "Since there is no way to fix it, the plot with average number will not be approprite. The future plots will focus on total amount.\n",
    "\n",
    "Put the 2009 issue aside, the total number of returns jumped almost twice from 2008 to 2009. Since there is no documents in IRS explained the possible reasons, I would assume this is because of the financial crisis. More people are filing returns to get tax refund or figuring out their situations because of the financial crisis. After 2009, the total amount increased slightly each year."
   ]
  },
  {
   "cell_type": "markdown",
   "metadata": {},
   "source": [
    "### Paid Preparer"
   ]
  },
  {
   "cell_type": "code",
   "execution_count": 20,
   "metadata": {
    "scrolled": true
   },
   "outputs": [
    {
     "data": {
      "text/plain": [
       "<matplotlib.axes._subplots.AxesSubplot at 0x1114b5898>"
      ]
     },
     "execution_count": 20,
     "metadata": {},
     "output_type": "execute_result"
    },
    {
     "data": {
      "image/png": "[encoded data removed]",
      "text/plain": [
       "<matplotlib.figure.Figure at 0x1a20bc0f28>"
      ]
     },
     "metadata": {},
     "output_type": "display_data"
    }
   ],
   "source": [
    "sns.barplot(data=raw_data, x='year', y='prep', estimator=np.sum)"
   ]
  },
  {
   "cell_type": "code",
   "execution_count": 22,
   "metadata": {
    "collapsed": true
   },
   "outputs": [],
   "source": [
    "prep = pd.pivot_table(raw_data, values='prep', \n",
    "                      index=['year'], columns=['state'], aggfunc=np.sum, margins=True)"
   ]
  },
  {
   "cell_type": "code",
   "execution_count": 17,
   "metadata": {},
   "outputs": [
    {
     "data": {
      "text/plain": [
       "year\n",
       "2005    7.964807e+07\n",
       "2006    8.222484e+07\n",
       "2007    1.070869e+12\n",
       "2008    9.871033e+11\n",
       "2009    1.763429e+09\n",
       "2010    1.939648e+09\n",
       "2011    2.073536e+09\n",
       "2012    2.335302e+09\n",
       "2013    2.410683e+09\n",
       "2014    2.665880e+09\n",
       "2015    2.826148e+09\n",
       "All     2.074149e+12\n",
       "Name: All, dtype: float64"
      ]
     },
     "execution_count": 17,
     "metadata": {},
     "output_type": "execute_result"
    }
   ],
   "source": [
    "prep['All']"
   ]
  },
  {
   "cell_type": "markdown",
   "metadata": {},
   "source": [
    "If the original dataset doesn't contain errors, 2007 and 2008 have significantly more people using a paid preparer than other years. It might related to the economical prosperity in these two years."
   ]
  },
  {
   "cell_type": "markdown",
   "metadata": {},
   "source": [
    "### Number of People who used Itemized Deduction"
   ]
  },
  {
   "cell_type": "code",
   "execution_count": 25,
   "metadata": {},
   "outputs": [
    {
     "data": {
      "text/plain": [
       "<matplotlib.axes._subplots.AxesSubplot at 0x1117b5eb8>"
      ]
     },
     "execution_count": 25,
     "metadata": {},
     "output_type": "execute_result"
    },
    {
     "data": {
      "image/png": "[encoded data removed]",
      "text/plain": [
       "<matplotlib.figure.Figure at 0x1a14afd278>"
      ]
     },
     "metadata": {},
     "output_type": "display_data"
    }
   ],
   "source": [
    "sns.barplot(data=raw_data, x='year', y='num_of_itemized', estimator=np.sum)"
   ]
  },
  {
   "cell_type": "markdown",
   "metadata": {},
   "source": [
    "Similar to number of paid preparer, 2005 and 2006 have more returns with itemized deduction than other years. 2009-2015 are more consistent."
   ]
  },
  {
   "cell_type": "markdown",
   "metadata": {},
   "source": [
    "### Adjusted Gross Income"
   ]
  },
  {
   "cell_type": "code",
   "execution_count": 27,
   "metadata": {},
   "outputs": [
    {
     "data": {
      "text/plain": [
       "<matplotlib.axes._subplots.AxesSubplot at 0x1115c0550>"
      ]
     },
     "execution_count": 27,
     "metadata": {},
     "output_type": "execute_result"
    },
    {
     "data": {
      "image/png": "[encoded data removed]",
      "text/plain": [
       "<matplotlib.figure.Figure at 0x1118004a8>"
      ]
     },
     "metadata": {},
     "output_type": "display_data"
    }
   ],
   "source": [
    "sns.barplot(data=raw_data, x='year', y='agi', estimator=np.sum)"
   ]
  },
  {
   "cell_type": "code",
   "execution_count": 28,
   "metadata": {},
   "outputs": [
    {
     "data": {
      "text/plain": [
       "<matplotlib.axes._subplots.AxesSubplot at 0x1a1ca6f6a0>"
      ]
     },
     "execution_count": 28,
     "metadata": {},
     "output_type": "execute_result"
    },
    {
     "data": {
      "image/png": "[encoded data removed]",
      "text/plain": [
       "<matplotlib.figure.Figure at 0x11150a978>"
      ]
     },
     "metadata": {},
     "output_type": "display_data"
    }
   ],
   "source": [
    "sns.barplot(data=raw_data, x='year', y='agi')"
   ]
  },
  {
   "cell_type": "markdown",
   "metadata": {},
   "source": [
    "2007 has much higher agi amount than the rest of the years regardless of total amount or average amount. Based on previous visualization, 2009-2015 have more consistent data. Let's see what will they show."
   ]
  },
  {
   "cell_type": "code",
   "execution_count": 40,
   "metadata": {},
   "outputs": [
    {
     "data": {
      "text/plain": [
       "<matplotlib.axes._subplots.AxesSubplot at 0x1a18b4db38>"
      ]
     },
     "execution_count": 40,
     "metadata": {},
     "output_type": "execute_result"
    },
    {
     "data": {
      "image/png": "[encoded data removed]",
      "text/plain": [
       "<matplotlib.figure.Figure at 0x11164c9b0>"
      ]
     },
     "metadata": {},
     "output_type": "display_data"
    }
   ],
   "source": [
    "sns.barplot(data=raw_data[(raw_data['year'] >= 2009) & (raw_data['year'] <= 2015)],\n",
    "            x='year', y='agi')"
   ]
  },
  {
   "cell_type": "code",
   "execution_count": 41,
   "metadata": {},
   "outputs": [
    {
     "data": {
      "text/plain": [
       "<matplotlib.axes._subplots.AxesSubplot at 0x1a1d114278>"
      ]
     },
     "execution_count": 41,
     "metadata": {},
     "output_type": "execute_result"
    },
    {
     "data": {
      "image/png": "[encoded data removed]",
      "text/plain": [
       "<matplotlib.figure.Figure at 0x111630a58>"
      ]
     },
     "metadata": {},
     "output_type": "display_data"
    }
   ],
   "source": [
    "sns.barplot(data=raw_data[(raw_data['year'] >= 2009) & (raw_data['year'] <= 2015)],\n",
    "            x='year', y='agi', estimator=np.sum)"
   ]
  },
  {
   "cell_type": "markdown",
   "metadata": {},
   "source": [
    "This is more reasonable and consistent. 2009 has much higher average since the total amount of data is significantly lower as shown previously. The average agi increases slightly every year since 2009."
   ]
  },
  {
   "cell_type": "markdown",
   "metadata": {},
   "source": [
    "### Total Amount of Tax"
   ]
  },
  {
   "cell_type": "code",
   "execution_count": 43,
   "metadata": {},
   "outputs": [
    {
     "data": {
      "text/plain": [
       "<matplotlib.axes._subplots.AxesSubplot at 0x1a1d118128>"
      ]
     },
     "execution_count": 43,
     "metadata": {},
     "output_type": "execute_result"
    },
    {
     "data": {
      "image/png": "[encoded data removed]",
      "text/plain": [
       "<matplotlib.figure.Figure at 0x1a1d126358>"
      ]
     },
     "metadata": {},
     "output_type": "display_data"
    }
   ],
   "source": [
    "sns.barplot(data=raw_data, x='year', y='total_tax', estimator=np.sum)"
   ]
  },
  {
   "cell_type": "code",
   "execution_count": 44,
   "metadata": {},
   "outputs": [
    {
     "data": {
      "text/plain": [
       "<matplotlib.axes._subplots.AxesSubplot at 0x1a1d121710>"
      ]
     },
     "execution_count": 44,
     "metadata": {},
     "output_type": "execute_result"
    },
    {
     "data": {
      "image/png": "[encoded data removed]",
      "text/plain": [
       "<matplotlib.figure.Figure at 0x1a21331198>"
      ]
     },
     "metadata": {},
     "output_type": "display_data"
    }
   ],
   "source": [
    "sns.barplot(data=raw_data[(raw_data['year'] >= 2009) & (raw_data['year'] <= 2015)],\n",
    "            x='year', y='total_tax', estimator=np.sum)"
   ]
  },
  {
   "cell_type": "markdown",
   "metadata": {},
   "source": [
    "Similar to agi amount, 2007 and 2008 has unexpected high amount than the other years. 2009 to 2015 have more consistent amount. The total tax per return increased slightly every year, which is similar to agi amount>"
   ]
  },
  {
   "cell_type": "markdown",
   "metadata": {
    "collapsed": true
   },
   "source": [
    "## Univariate Analysis"
   ]
  },
  {
   "cell_type": "markdown",
   "metadata": {},
   "source": [
    "After concatenate the 10 year tax data, there are 1,953,802 rows in total with 16 total variables. The above analysis shows some issues with original dataset. Data is not well collected in 2009. The total amount of data in 2009 is significatnly less than that of the other years. 2005 to 2008 data is not consistent with the other year, they has unreasonable higher amount than the other years.\n",
    "\n",
    "Since the goal of the model is to predict the tax due in current year and in the future, the chaos in the 2005-2008 data could do more harm than good. I will use both the whole dataset and the 2009 (or 2010 since 2009 doesn't have enough data) to 2015 data to train the model seperately to see which one is better."
   ]
  },
  {
   "cell_type": "code",
   "execution_count": null,
   "metadata": {
    "collapsed": true
   },
   "outputs": [],
   "source": []
  }
 ],
 "metadata": {
  "kernelspec": {
   "display_name": "Python [default]",
   "language": "python",
   "name": "python3"
  },
  "language_info": {
   "codemirror_mode": {
    "name": "ipython",
    "version": 3
   },
   "file_extension": ".py",
   "mimetype": "text/x-python",
   "name": "python",
   "nbconvert_exporter": "python",
   "pygments_lexer": "ipython3",
   "version": "3.5.4"
  }
 },
 "nbformat": 4,
 "nbformat_minor": 2
}
