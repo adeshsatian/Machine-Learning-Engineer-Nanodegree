{
 "cells": [
  {
   "cell_type": "markdown",
   "metadata": {},
   "source": [
    "# Introduction\n",
    "\n",
    "Titanic disaster in one of the deadliest disasters in history. Among more than 2,000 passengers and crew aboard, more than 1,500 people died. If you have watched the movie \"Titanic\", you may be familiar with the disater.\n",
    "There are not enought lifeboats aboard, which causes the huge amount of death. Therefore, being in the lifeboats is the key to survive. In the movie, people tend to send women and children to lifeboats and let them survive, but is it true in the real life? The purpose of this project is to predict who will survive in this disaster.\n",
    "\n",
    "## Data\n",
    "\n",
    "The dataset can be found [here](https://www.kaggle.com/c/titanic/data), including:\n",
    "\n",
    "* training set (train.csv)\n",
    "* test set (test.csv)\n",
    "\n",
    "### Features\n",
    "\n",
    "* pclass - Ticket class (1 = Upper, 2 = Middle, 3 = Lower)\n",
    "* sex - Sex\t\n",
    "* Age - in years (fractional if less than 1. If the age is estimated, is it in the form of xx.5)\n",
    "* sibsp\t- # of siblings / spouses aboard the Titanic\t\n",
    "  * sibling - brother, sister, stepbrother, stepsister\n",
    "  * spouses - husband, wife (mistresses and fiancés were ignored)\n",
    "* parch\t- # of parents / children aboard the Titanic\t\n",
    "* ticket - Ticket number\t\n",
    "* fare - Passenger fare\t\n",
    "* cabin - Cabin number\t\n",
    "* embarked - Port of Embarkation (C = Cherbourg, Q = Queenstown, S = Southampton)\n",
    "\n",
    "### Label\n",
    "\n",
    "* survival - Survival (0 = No, 1 = Yes)"
   ]
  },
  {
   "cell_type": "markdown",
   "metadata": {},
   "source": [
    "# Getting Started\n",
    "\n",
    "To begin working with the data, we need to first install all the necessary modules, and then load the data into a pandas DataFrame"
   ]
  },
  {
   "cell_type": "code",
   "execution_count": 1,
   "metadata": {
    "collapsed": true
   },
   "outputs": [],
   "source": [
    "import numpy as np\n",
    "import pandas as pd\n",
    "import matplotlib.pyplot as plt\n",
    "import seaborn as sns\n",
    "\n",
    "%matplotlib inline"
   ]
  },
  {
   "cell_type": "code",
   "execution_count": null,
   "metadata": {
    "collapsed": true
   },
   "outputs": [],
   "source": []
  }
 ],
 "metadata": {
  "kernelspec": {
   "display_name": "Python [default]",
   "language": "python",
   "name": "python3"
  },
  "language_info": {
   "codemirror_mode": {
    "name": "ipython",
    "version": 3
   },
   "file_extension": ".py",
   "mimetype": "text/x-python",
   "name": "python",
   "nbconvert_exporter": "python",
   "pygments_lexer": "ipython3",
   "version": "3.5.3"
  }
 },
 "nbformat": 4,
 "nbformat_minor": 2
}
